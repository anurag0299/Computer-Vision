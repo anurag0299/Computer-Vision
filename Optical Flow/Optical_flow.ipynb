{
 "cells": [
  {
   "cell_type": "code",
   "execution_count": 2,
   "metadata": {},
   "outputs": [],
   "source": [
    "import numpy as np\n",
    "import cv2 as cv\n",
    "import matplotlib.pyplot as plt\n",
    "from IPython.display import clear_output\n",
    "import time"
   ]
  },
  {
   "cell_type": "markdown",
   "metadata": {},
   "source": [
    "## lucas kanade"
   ]
  },
  {
   "cell_type": "code",
   "execution_count": 4,
   "metadata": {},
   "outputs": [
    {
     "name": "stdout",
     "output_type": "stream",
     "text": [
      "No frames grabbed!\n"
     ]
    }
   ],
   "source": [
    "## Change video name here\n",
    "cap = cv.VideoCapture('Building Dataset/video x1.mp4')\n",
    "# params for ShiTomasi corner detection\n",
    "feature_params = dict( maxCorners = 100,\n",
    "                       qualityLevel = 0.3,\n",
    "                       minDistance = 7,\n",
    "                       blockSize = 7 )\n",
    "# Parameters for lucas kanade optical flow\n",
    "lk_params = dict( winSize  = (15, 15),\n",
    "                  maxLevel = 2,\n",
    "                  criteria = (cv.TERM_CRITERIA_EPS | cv.TERM_CRITERIA_COUNT, 10, 0.03))\n",
    "# Create some random colors\n",
    "color = np.random.randint(0, 255, (100, 3))\n",
    "# Take first frame and find corners in it\n",
    "ret, old_frame = cap.read()\n",
    "old_gray = cv.cvtColor(old_frame, cv.COLOR_BGR2GRAY)\n",
    "p0 = cv.goodFeaturesToTrack(old_gray, mask = None, **feature_params)\n",
    "# Create a mask image for drawing purposes\n",
    "mask = np.zeros_like(old_frame)\n",
    "while(1):\n",
    "    ret, frame = cap.read()\n",
    "    if not ret:\n",
    "        print('No frames grabbed!')\n",
    "        break\n",
    "    frame_gray = cv.cvtColor(frame, cv.COLOR_BGR2GRAY)\n",
    "    # calculate optical flow\n",
    "    p1, st, err = cv.calcOpticalFlowPyrLK(old_gray, frame_gray, p0, None, **lk_params)\n",
    "    # Select good points\n",
    "    if p1 is not None:\n",
    "        good_new = p1[st==1]\n",
    "        good_old = p0[st==1]\n",
    "    # draw the tracks\n",
    "    for i, (new, old) in enumerate(zip(good_new, good_old)):\n",
    "        a, b = new.ravel()\n",
    "        c, d = old.ravel()\n",
    "        mask = cv.line(mask, (int(a), int(b)), (int(c), int(d)), color[i].tolist(), 2)\n",
    "        frame = cv.circle(frame, (int(a), int(b)), 5, color[i].tolist(), -1)\n",
    "    img = cv.add(frame, mask)\n",
    "    plt.imshow(img)\n",
    "    plt.show()\n",
    "    clear_output(wait=True)\n",
    "    k = cv.waitKey(30) & 0xff\n",
    "    if k == 27:\n",
    "        break\n",
    "    # Now update the previous frame and previous points\n",
    "    old_gray = frame_gray.copy()\n",
    "    p0 = good_new.reshape(-1, 1, 2)\n",
    "cv.destroyAllWindows()"
   ]
  },
  {
   "cell_type": "markdown",
   "metadata": {},
   "source": [
    "## Dense optical flow"
   ]
  },
  {
   "cell_type": "code",
   "execution_count": 1,
   "metadata": {},
   "outputs": [
    {
     "ename": "error",
     "evalue": "OpenCV(4.0.1) C:\\ci\\opencv-suite_1573470242804\\work\\modules\\highgui\\src\\window.cpp:352: error: (-215:Assertion failed) size.width>0 && size.height>0 in function 'cv::imshow'\n",
     "output_type": "error",
     "traceback": [
      "\u001b[1;31m---------------------------------------------------------------------------\u001b[0m",
      "\u001b[1;31merror\u001b[0m                                     Traceback (most recent call last)",
      "\u001b[1;32mi:\\College Docs\\Computer Vision\\Lab\\Lab Evaluation 4\\code.ipynb Cell 3'\u001b[0m in \u001b[0;36m<cell line: 28>\u001b[1;34m()\u001b[0m\n\u001b[0;32m     <a href='vscode-notebook-cell:/i%3A/College%20Docs/Computer%20Vision/Lab/Lab%20Evaluation%204/code.ipynb#ch0000002?line=32'>33</a>\u001b[0m ret, frame \u001b[39m=\u001b[39m cap\u001b[39m.\u001b[39mread()\n\u001b[0;32m     <a href='vscode-notebook-cell:/i%3A/College%20Docs/Computer%20Vision/Lab/Lab%20Evaluation%204/code.ipynb#ch0000002?line=34'>35</a>\u001b[0m \u001b[39m# Opens a new window and displays the input\u001b[39;00m\n\u001b[0;32m     <a href='vscode-notebook-cell:/i%3A/College%20Docs/Computer%20Vision/Lab/Lab%20Evaluation%204/code.ipynb#ch0000002?line=35'>36</a>\u001b[0m \u001b[39m# frame\u001b[39;00m\n\u001b[1;32m---> <a href='vscode-notebook-cell:/i%3A/College%20Docs/Computer%20Vision/Lab/Lab%20Evaluation%204/code.ipynb#ch0000002?line=36'>37</a>\u001b[0m cv\u001b[39m.\u001b[39;49mimshow(\u001b[39m\"\u001b[39;49m\u001b[39minput\u001b[39;49m\u001b[39m\"\u001b[39;49m, frame)\n\u001b[0;32m     <a href='vscode-notebook-cell:/i%3A/College%20Docs/Computer%20Vision/Lab/Lab%20Evaluation%204/code.ipynb#ch0000002?line=38'>39</a>\u001b[0m \u001b[39m# Converts each frame to grayscale - we previously \u001b[39;00m\n\u001b[0;32m     <a href='vscode-notebook-cell:/i%3A/College%20Docs/Computer%20Vision/Lab/Lab%20Evaluation%204/code.ipynb#ch0000002?line=39'>40</a>\u001b[0m \u001b[39m# only converted the first frame to grayscale\u001b[39;00m\n\u001b[0;32m     <a href='vscode-notebook-cell:/i%3A/College%20Docs/Computer%20Vision/Lab/Lab%20Evaluation%204/code.ipynb#ch0000002?line=40'>41</a>\u001b[0m gray \u001b[39m=\u001b[39m cv\u001b[39m.\u001b[39mcvtColor(frame, cv\u001b[39m.\u001b[39mCOLOR_BGR2GRAY)\n",
      "\u001b[1;31merror\u001b[0m: OpenCV(4.0.1) C:\\ci\\opencv-suite_1573470242804\\work\\modules\\highgui\\src\\window.cpp:352: error: (-215:Assertion failed) size.width>0 && size.height>0 in function 'cv::imshow'\n"
     ]
    },
    {
     "ename": "",
     "evalue": "",
     "output_type": "error",
     "traceback": [
      "\u001b[1;31mThe Kernel crashed while executing code in the the current cell or a previous cell. Please review the code in the cell(s) to identify a possible cause of the failure. Click <a href='https://aka.ms/vscodeJupyterKernelCrash'>here</a> for more info. View Jupyter <a href='command:jupyter.viewOutput'>log</a> for further details."
     ]
    }
   ],
   "source": [
    "import cv2 as cv\n",
    "import numpy as np\n",
    "  \n",
    "  \n",
    "# The video feed is read in as\n",
    "# a VideoCapture object\n",
    "cap = cv.VideoCapture(\"Building Dataset/video x1.mp4\")\n",
    "  \n",
    "# ret = a boolean return value from\n",
    "# getting the frame, first_frame = the\n",
    "# first frame in the entire video sequence\n",
    "ret, first_frame = cap.read()\n",
    "  \n",
    "# Converts frame to grayscale because we\n",
    "# only need the luminance channel for\n",
    "# detecting edges - less computationally \n",
    "# expensive\n",
    "prev_gray = cv.cvtColor(first_frame, cv.COLOR_BGR2GRAY)\n",
    "  \n",
    "# Creates an image filled with zero\n",
    "# intensities with the same dimensions \n",
    "# as the frame\n",
    "mask = np.zeros_like(first_frame)\n",
    "  \n",
    "# Sets image saturation to maximum\n",
    "mask[..., 1] = 255\n",
    "  \n",
    "while(cap.isOpened()):\n",
    "      \n",
    "    # ret = a boolean return value from getting\n",
    "    # the frame, frame = the current frame being\n",
    "    # projected in the video\n",
    "    ret, frame = cap.read()\n",
    "      \n",
    "    # Opens a new window and displays the input\n",
    "    # frame\n",
    "    cv.imshow(\"input\", frame)\n",
    "      \n",
    "    # Converts each frame to grayscale - we previously \n",
    "    # only converted the first frame to grayscale\n",
    "    gray = cv.cvtColor(frame, cv.COLOR_BGR2GRAY)\n",
    "      \n",
    "    # Calculates dense optical flow by Farneback method\n",
    "    flow = cv.calcOpticalFlowFarneback(prev_gray, gray, \n",
    "                                       None,\n",
    "                                       0.5, 3, 15, 3, 5, 1.2, 0)\n",
    "      \n",
    "    # Computes the magnitude and angle of the 2D vectors\n",
    "    magnitude, angle = cv.cartToPolar(flow[..., 0], flow[..., 1])\n",
    "      \n",
    "    # Sets image hue according to the optical flow \n",
    "    # direction\n",
    "    mask[..., 0] = angle * 180 / np.pi / 2\n",
    "      \n",
    "    # Sets image value according to the optical flow\n",
    "    # magnitude (normalized)\n",
    "    mask[..., 2] = cv.normalize(magnitude, None, 0, 255, cv.NORM_MINMAX)\n",
    "      \n",
    "    # Converts HSV to RGB (BGR) color representation\n",
    "    rgb = cv.cvtColor(mask, cv.COLOR_HSV2BGR)\n",
    "      \n",
    "    # Opens a new window and displays the output frame\n",
    "    cv.imshow(\"dense optical flow\", rgb)\n",
    "      \n",
    "    # Updates previous frame\n",
    "    prev_gray = gray\n",
    "      \n",
    "    # Frames are read by intervals of 1 millisecond. The\n",
    "    # programs breaks out of the while loop when the\n",
    "    # user presses the 'q' key\n",
    "    if cv.waitKey(1) & 0xFF == ord('q'):\n",
    "        break\n",
    "  \n",
    "# The following frees up resources and\n",
    "# closes all windows\n",
    "cap.release()\n",
    "cv.destroyAllWindows()"
   ]
  },
  {
   "cell_type": "markdown",
   "metadata": {},
   "source": [
    "## horn schunck"
   ]
  },
  {
   "cell_type": "code",
   "execution_count": 42,
   "metadata": {},
   "outputs": [],
   "source": [
    "import cv2\n",
    "import numpy as np\n",
    "import matplotlib.pyplot as plt\n",
    "from IPython.display import clear_output\n",
    "from time import sleep\n",
    "# Path to video file\n",
    "vidObj = cv2.VideoCapture('Building Dataset/video x2.mp4')\n",
    "  \n",
    "# Used as counter variable\n",
    "count = 0\n",
    "  \n",
    "# checks whether frames were extracted\n",
    "success = 1\n",
    "\n",
    "#list of images\n",
    "images = []\n",
    "while success:\n",
    "  \n",
    "    # vidObj object calls read\n",
    "    # function extract frames\n",
    "    success, image = vidObj.read()\n",
    "    images.append(image)\n",
    "\n",
    "'''for x in images:\n",
    "    # Saves the frames with frame-count\n",
    "    cv2.imwrite(\"frame%d.jpg\" % count, x)\n",
    "    count += 1'''\n",
    "\n",
    "def horn_schunck(img1,img2):\n",
    "    img1 = cv2.cvtColor(img1,cv2.COLOR_BGR2RGB)\n",
    "    img2 = cv2.cvtColor(img2,cv2.COLOR_BGR2RGB)\n",
    "    img1 = cv2.resize(img1, (640, 320))\n",
    "    img2 = cv2.resize(img2, (640, 320))\n",
    "    M = np.zeros((2,3), dtype = np.float32)\n",
    "\n",
    "    gray1 = cv2.cvtColor(img1, cv2.COLOR_BGR2GRAY)\n",
    "    gray2 = cv2.cvtColor(img2, cv2.COLOR_BGR2GRAY)\n",
    "    plt.imshow(gray1, cmap = 'gray')\n",
    "    plt.imshow(gray2, cmap = 'gray')\n",
    "    gray_diff = cv2.subtract(gray1, gray2)\n",
    "    #plt.imshow(gray_diff, cmap = 'gray')\n",
    "    flow = cv2.calcOpticalFlowFarneback(gray1, gray2, None, 0.5, 5, 15,  3,  5,  1.2, 0)\n",
    "    hsv = np.zeros( (320,640,3), dtype = np.uint8)\n",
    "    hsv[...,1] = 255\n",
    "    mag, ang = cv2.cartToPolar(flow[...,0], flow[...,1])\n",
    "    hsv[...,0] = ang*180/np.pi/2\n",
    "    hsv[...,2] = cv2.normalize(mag,None,0,255,cv2.NORM_MINMAX)\n",
    "    rgb = cv2.cvtColor(hsv,cv2.COLOR_HSV2BGR)\n",
    "    plt.imshow(rgb)\n",
    "\n",
    "\n",
    "    \n",
    "    "
   ]
  },
  {
   "cell_type": "code",
   "execution_count": 43,
   "metadata": {},
   "outputs": [
    {
     "data": {
      "image/png": "[encoded data removed]",
      "text/plain": [
       "<Figure size 432x288 with 1 Axes>"
      ]
     },
     "metadata": {
      "needs_background": "light"
     },
     "output_type": "display_data"
    }
   ],
   "source": [
    "x=50\n",
    "horn_schunck(images[x],images[x+1])"
   ]
  },
  {
   "cell_type": "code",
   "execution_count": null,
   "metadata": {},
   "outputs": [],
   "source": []
  }
 ],
 "metadata": {
  "interpreter": {
   "hash": "ad2bdc8ecc057115af97d19610ffacc2b4e99fae6737bb82f5d7fb13d2f2c186"
  },
  "kernelspec": {
   "display_name": "Python 3.8.12 ('base')",
   "language": "python",
   "name": "python3"
  },
  "language_info": {
   "codemirror_mode": {
    "name": "ipython",
    "version": 3
   },
   "file_extension": ".py",
   "mimetype": "text/x-python",
   "name": "python",
   "nbconvert_exporter": "python",
   "pygments_lexer": "ipython3",
   "version": "3.8.12"
  },
  "orig_nbformat": 4
 },
 "nbformat": 4,
 "nbformat_minor": 2
}
